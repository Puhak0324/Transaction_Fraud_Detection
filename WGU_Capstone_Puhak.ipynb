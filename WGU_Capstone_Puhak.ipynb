{
 "cells": [
  {
   "cell_type": "markdown",
   "id": "e5dc15cb",
   "metadata": {},
   "source": [
    "# WGU Capstone Project: Credit Card Fraud Detection"
   ]
  },
  {
   "cell_type": "markdown",
   "id": "073263eb",
   "metadata": {},
   "source": [
    "In this project, the business problem we are solving is determining if a credit card transaction is fraudulent or legitimate. This problem is solved by applying machine learning that finds patterns within a sample data set to determine if future credit card transactions are legitimate."
   ]
  },
  {
   "cell_type": "markdown",
   "id": "d971062d",
   "metadata": {},
   "source": [
    "# Import Libraries"
   ]
  },
  {
   "cell_type": "markdown",
   "id": "76e4e863",
   "metadata": {},
   "source": [
    "In this section, fetching of necessary libraries are imported into the notebook."
   ]
  },
  {
   "cell_type": "markdown",
   "id": "3733911f",
   "metadata": {},
   "source": [
    "Pandas will be used to read, parse, and store the data of the CSV file into a dataframe. Numpy will be used for data manipulation. Matplotlib will be used to generate graphs and charts from the data. Ipywidgets will be used to create widgets such as dropdown menus, sliders, and text boxes. Seaborn will be used to add style to the graphs; In this case darkgrid will be used. Sklearn will be used to provide the machine learning library necessary to accomplish this task."
   ]
  },
  {
   "cell_type": "code",
   "execution_count": null,
   "id": "9efdcc12",
   "metadata": {},
   "outputs": [],
   "source": [
    "import pandas as pd\n",
    "import numpy as np\n",
    "import matplotlib.pyplot as plt\n",
    "import ipywidgets as widgets\n",
    "import seaborn as sns\n",
    "from ipywidgets import HBox, VBox, Label\n",
    "from sklearn.model_selection import train_test_split\n",
    "from sklearn.linear_model import SGDClassifier\n",
    "from sklearn.metrics import confusion_matrix\n",
    "from sklearn.metrics import classification_report\n",
    "from sklearn.metrics import mean_absolute_error, accuracy_score\n",
    "plt.style.use('seaborn-darkgrid')"
   ]
  },
  {
   "cell_type": "markdown",
   "id": "7d01ca18",
   "metadata": {},
   "source": [
    "# Import CSV File"
   ]
  },
  {
   "cell_type": "markdown",
   "id": "7e665eba",
   "metadata": {},
   "source": [
    "This fetches the CSV file named 'card_transaction_data.csv' and assigns it to a variable named sample_data."
   ]
  },
  {
   "cell_type": "code",
   "execution_count": 64,
   "id": "f5fe9dc6",
   "metadata": {},
   "outputs": [],
   "source": [
    "sample_data = pd.read_csv(\"card_transaction_data.csv\")\n"
   ]
  },
  {
   "cell_type": "markdown",
   "id": "ef6e483a",
   "metadata": {},
   "source": [
    "# Tableview of Sample Data"
   ]
  },
  {
   "cell_type": "markdown",
   "id": "32cfaa16",
   "metadata": {},
   "source": [
    "This will load all of the data contained within the CSV file and display it."
   ]
  },
  {
   "cell_type": "code",
   "execution_count": 65,
   "id": "1b0bcab5",
   "metadata": {},
   "outputs": [
    {
     "data": {
      "text/html": [
       "<div>\n",
       "<style scoped>\n",
       "    .dataframe tbody tr th:only-of-type {\n",
       "        vertical-align: middle;\n",
       "    }\n",
       "\n",
       "    .dataframe tbody tr th {\n",
       "        vertical-align: top;\n",
       "    }\n",
       "\n",
       "    .dataframe thead th {\n",
       "        text-align: right;\n",
       "    }\n",
       "</style>\n",
       "<table border=\"1\" class=\"dataframe\">\n",
       "  <thead>\n",
       "    <tr style=\"text-align: right;\">\n",
       "      <th></th>\n",
       "      <th>distance_from_home</th>\n",
       "      <th>distance_from_last_transaction</th>\n",
       "      <th>ratio_to_median_purchase_price</th>\n",
       "      <th>repeat_retailer</th>\n",
       "      <th>used_chip</th>\n",
       "      <th>used_pin_number</th>\n",
       "      <th>online_order</th>\n",
       "      <th>fraud</th>\n",
       "    </tr>\n",
       "  </thead>\n",
       "  <tbody>\n",
       "    <tr>\n",
       "      <th>0</th>\n",
       "      <td>57.877857</td>\n",
       "      <td>0.311140</td>\n",
       "      <td>1.945940</td>\n",
       "      <td>1.0</td>\n",
       "      <td>1.0</td>\n",
       "      <td>0.0</td>\n",
       "      <td>0.0</td>\n",
       "      <td>0.0</td>\n",
       "    </tr>\n",
       "    <tr>\n",
       "      <th>1</th>\n",
       "      <td>10.829943</td>\n",
       "      <td>0.175592</td>\n",
       "      <td>1.294219</td>\n",
       "      <td>1.0</td>\n",
       "      <td>0.0</td>\n",
       "      <td>0.0</td>\n",
       "      <td>0.0</td>\n",
       "      <td>0.0</td>\n",
       "    </tr>\n",
       "    <tr>\n",
       "      <th>2</th>\n",
       "      <td>5.091079</td>\n",
       "      <td>0.805153</td>\n",
       "      <td>0.427715</td>\n",
       "      <td>1.0</td>\n",
       "      <td>0.0</td>\n",
       "      <td>0.0</td>\n",
       "      <td>1.0</td>\n",
       "      <td>0.0</td>\n",
       "    </tr>\n",
       "    <tr>\n",
       "      <th>3</th>\n",
       "      <td>2.247564</td>\n",
       "      <td>5.600044</td>\n",
       "      <td>0.362663</td>\n",
       "      <td>1.0</td>\n",
       "      <td>1.0</td>\n",
       "      <td>0.0</td>\n",
       "      <td>1.0</td>\n",
       "      <td>0.0</td>\n",
       "    </tr>\n",
       "    <tr>\n",
       "      <th>4</th>\n",
       "      <td>44.190936</td>\n",
       "      <td>0.566486</td>\n",
       "      <td>2.222767</td>\n",
       "      <td>1.0</td>\n",
       "      <td>1.0</td>\n",
       "      <td>0.0</td>\n",
       "      <td>1.0</td>\n",
       "      <td>0.0</td>\n",
       "    </tr>\n",
       "    <tr>\n",
       "      <th>...</th>\n",
       "      <td>...</td>\n",
       "      <td>...</td>\n",
       "      <td>...</td>\n",
       "      <td>...</td>\n",
       "      <td>...</td>\n",
       "      <td>...</td>\n",
       "      <td>...</td>\n",
       "      <td>...</td>\n",
       "    </tr>\n",
       "    <tr>\n",
       "      <th>999995</th>\n",
       "      <td>2.207101</td>\n",
       "      <td>0.112651</td>\n",
       "      <td>1.626798</td>\n",
       "      <td>1.0</td>\n",
       "      <td>1.0</td>\n",
       "      <td>0.0</td>\n",
       "      <td>0.0</td>\n",
       "      <td>0.0</td>\n",
       "    </tr>\n",
       "    <tr>\n",
       "      <th>999996</th>\n",
       "      <td>19.872726</td>\n",
       "      <td>2.683904</td>\n",
       "      <td>2.778303</td>\n",
       "      <td>1.0</td>\n",
       "      <td>1.0</td>\n",
       "      <td>0.0</td>\n",
       "      <td>0.0</td>\n",
       "      <td>0.0</td>\n",
       "    </tr>\n",
       "    <tr>\n",
       "      <th>999997</th>\n",
       "      <td>2.914857</td>\n",
       "      <td>1.472687</td>\n",
       "      <td>0.218075</td>\n",
       "      <td>1.0</td>\n",
       "      <td>1.0</td>\n",
       "      <td>0.0</td>\n",
       "      <td>1.0</td>\n",
       "      <td>0.0</td>\n",
       "    </tr>\n",
       "    <tr>\n",
       "      <th>999998</th>\n",
       "      <td>4.258729</td>\n",
       "      <td>0.242023</td>\n",
       "      <td>0.475822</td>\n",
       "      <td>1.0</td>\n",
       "      <td>0.0</td>\n",
       "      <td>0.0</td>\n",
       "      <td>1.0</td>\n",
       "      <td>0.0</td>\n",
       "    </tr>\n",
       "    <tr>\n",
       "      <th>999999</th>\n",
       "      <td>58.108125</td>\n",
       "      <td>0.318110</td>\n",
       "      <td>0.386920</td>\n",
       "      <td>1.0</td>\n",
       "      <td>1.0</td>\n",
       "      <td>0.0</td>\n",
       "      <td>1.0</td>\n",
       "      <td>0.0</td>\n",
       "    </tr>\n",
       "  </tbody>\n",
       "</table>\n",
       "<p>1000000 rows × 8 columns</p>\n",
       "</div>"
      ],
      "text/plain": [
       "        distance_from_home  distance_from_last_transaction  \\\n",
       "0                57.877857                        0.311140   \n",
       "1                10.829943                        0.175592   \n",
       "2                 5.091079                        0.805153   \n",
       "3                 2.247564                        5.600044   \n",
       "4                44.190936                        0.566486   \n",
       "...                    ...                             ...   \n",
       "999995            2.207101                        0.112651   \n",
       "999996           19.872726                        2.683904   \n",
       "999997            2.914857                        1.472687   \n",
       "999998            4.258729                        0.242023   \n",
       "999999           58.108125                        0.318110   \n",
       "\n",
       "        ratio_to_median_purchase_price  repeat_retailer  used_chip  \\\n",
       "0                             1.945940              1.0        1.0   \n",
       "1                             1.294219              1.0        0.0   \n",
       "2                             0.427715              1.0        0.0   \n",
       "3                             0.362663              1.0        1.0   \n",
       "4                             2.222767              1.0        1.0   \n",
       "...                                ...              ...        ...   \n",
       "999995                        1.626798              1.0        1.0   \n",
       "999996                        2.778303              1.0        1.0   \n",
       "999997                        0.218075              1.0        1.0   \n",
       "999998                        0.475822              1.0        0.0   \n",
       "999999                        0.386920              1.0        1.0   \n",
       "\n",
       "        used_pin_number  online_order  fraud  \n",
       "0                   0.0           0.0    0.0  \n",
       "1                   0.0           0.0    0.0  \n",
       "2                   0.0           1.0    0.0  \n",
       "3                   0.0           1.0    0.0  \n",
       "4                   0.0           1.0    0.0  \n",
       "...                 ...           ...    ...  \n",
       "999995              0.0           0.0    0.0  \n",
       "999996              0.0           0.0    0.0  \n",
       "999997              0.0           1.0    0.0  \n",
       "999998              0.0           1.0    0.0  \n",
       "999999              0.0           1.0    0.0  \n",
       "\n",
       "[1000000 rows x 8 columns]"
      ]
     },
     "execution_count": 65,
     "metadata": {},
     "output_type": "execute_result"
    }
   ],
   "source": [
    "sample_data"
   ]
  },
  {
   "cell_type": "markdown",
   "id": "61ceda26",
   "metadata": {},
   "source": [
    "# Condensed Tableview of Sample Data"
   ]
  },
  {
   "cell_type": "markdown",
   "id": "8160f603",
   "metadata": {},
   "source": [
    "This allows the user to view the first five rows contained within the CSV file."
   ]
  },
  {
   "cell_type": "code",
   "execution_count": null,
   "id": "3e2f4acc",
   "metadata": {},
   "outputs": [],
   "source": [
    "sample_data.head()"
   ]
  },
  {
   "cell_type": "markdown",
   "id": "b2af308b",
   "metadata": {},
   "source": [
    "# Descriptive Methods"
   ]
  },
  {
   "cell_type": "markdown",
   "id": "c7be2f9e",
   "metadata": {},
   "source": [
    "In this portion, the first three columns of the CSV file are selected. The describe() method is then applied to all to display an array of statistical data. "
   ]
  },
  {
   "cell_type": "code",
   "execution_count": null,
   "id": "9e4e8027",
   "metadata": {},
   "outputs": [],
   "source": [
    "sample_data_statistics = pd.DataFrame(sample_data[['distance_from_home', 'distance_from_last_transaction',\n",
    "                                  'ratio_to_median_purchase_price']].describe())\n",
    "sample_data_statistics.style.set_caption(\"Descriptive Statistics of Sample Data\")"
   ]
  },
  {
   "cell_type": "markdown",
   "id": "39468711",
   "metadata": {},
   "source": [
    "# Set Variables"
   ]
  },
  {
   "cell_type": "markdown",
   "id": "24b2fb23",
   "metadata": {},
   "source": [
    "Data from the CSV file are calculated and stored within a variable."
   ]
  },
  {
   "cell_type": "code",
   "execution_count": null,
   "id": "7e464f7b",
   "metadata": {},
   "outputs": [],
   "source": [
    "labels_ecommerce = 'Ecommerce Order', 'Not Ecommerce'\n",
    "explode_ecommerce = (0, 0.1)\n",
    "labels = 'Used Pin', 'Did Not Use Pin'\n",
    "explode = (0, 0.1)\n",
    "sizes_chip = [total_utilized_chip, total_no_chip, ]\n",
    "sizes_pin = [count_used_pin, count_no_pin]\n",
    "\n",
    "count_used_pin = sample_data[sample_data['used_pin_number'] == 1.0].count()['used_pin_number']\n",
    "count_no_pin = sample_data[sample_data['used_pin_number'] == 0.0].count()['used_pin_number']\n",
    "\n",
    "used_pin = {\n",
    "    \"Used Pin\": count_used_pin,\n",
    "    \"Did Not Use Pin\": count_no_pin\n",
    "}\n",
    "\n",
    "total_ecommerce = sample_data[sample_data['online_order'] == 1.0].count()['online_order']\n",
    "total_not_ecommerce = sample_data[sample_data['online_order'] == 0.0].count()['online_order']\n",
    "\n",
    "online_order = {\n",
    "    \"E-Commerce Order\": total_ecommerce,\n",
    "    \"Not E-Commerce\": total_not_ecommerce\n",
    "}\n",
    "\n",
    "total_no_chip = sample_data[sample_data['used_chip'] == 0.0].count()['used_chip']\n",
    "total_utilized_chip = sample_data[sample_data['used_chip'] == 1.0].count()['used_chip']\n",
    "\n",
    "used_chip = {\n",
    "    \"Utilized Chip\": total_utilized_chip,\n",
    "    \"Did Not Utilize Chip\": total_no_chip\n",
    "}\n",
    "\n",
    "total_non_repeat_retailer = sample_data[sample_data['repeat_retailer'] == 0.0].count()['repeat_retailer']\n",
    "total_repeat_retailer = sample_data[sample_data['repeat_retailer'] == 1.0].count()['repeat_retailer']\n",
    "\n",
    "repeat_retailer = {\n",
    "    \"Repeat\": total_repeat_retailer,\n",
    "    \"Non-Repeat\": total_non_repeat_retailer\n",
    "}"
   ]
  },
  {
   "cell_type": "markdown",
   "id": "a333da0e",
   "metadata": {},
   "source": [
    "# Data Visuals"
   ]
  },
  {
   "cell_type": "markdown",
   "id": "8a9d4240",
   "metadata": {},
   "source": [
    "The data from variable assignment are passed into graphs. The graphs are created with the data in mind. The first set are pie charts that display pin and chip usage. The pie chart offers an exploded view and a legend indicating color code. The second set are bar charts that display repeat retailers and e-commerce orders. The bar charts offer color coding to help differentiation of values. The final set are histogram charts that display transaction distance from home and transaction distance from previous transaction. "
   ]
  },
  {
   "cell_type": "code",
   "execution_count": null,
   "id": "e905d737",
   "metadata": {},
   "outputs": [],
   "source": [
    "fig, (graph1, graph2, graph3, graph4, graph5, graph6) = plt.subplots(nrows=6, ncols=1, figsize=(22,50))\n",
    "\n",
    "colors = (\"red\", \"teal\") \n",
    "colors2 = (\"green\", \"grey\") \n",
    "\n",
    "graph1.pie(sizes_pin, explode=explode, colors=colors, labels=labels, shadow=True, startangle=210, autopct='%1.1f%%')\n",
    "graph1.axis('equal')\n",
    "graph1.set_title(\"Pin Usage\", fontsize=25)\n",
    "graph1.legend(\n",
    "          title =\"Legend\",\n",
    "          loc=\"upper left\",\n",
    "          bbox_to_anchor =(0.7, 0, 0.5, 1))\n",
    "\n",
    "graph2.pie(sizes_chip, explode=explode_ecommerce, colors=colors2, labels=labels_ecommerce, shadow=True, startangle=180, autopct='%1.1f%%')\n",
    "graph2.axis('equal')\n",
    "graph2.set_title(\"Chip Usage\", fontsize=25)\n",
    "graph2.legend(\n",
    "          title =\"Legend\", \n",
    "          loc=\"upper left\",\n",
    "          bbox_to_anchor =(0.7, 0, 0.5, 1))\n",
    "\n",
    "graph3.bar(repeat_retailer.keys(), repeat_retailer.values(), color=colors2)\n",
    "graph3.set_title(\"Repeat Retailer\", fontsize=25)\n",
    "\n",
    "graph4.bar(online_order.keys(), online_order.values(), color=colors)\n",
    "graph4.set_title(\"E-Commerce Orders\", fontsize=25)\n",
    "\n",
    "graph5.hist(sample_data['distance_from_home'], bins=25, range=(0,100), color='olive')\n",
    "graph5.set_title(\"Distance Away From Home\", fontsize=25)\n",
    "graph5.set_xlabel('Distance in Miles', fontsize=15) \n",
    "graph5.set_ylabel('Card Transactions', fontsize=15)\n",
    "\n",
    "graph6.hist(sample_data['distance_from_last_transaction'], bins=25, range=(0,50), color='purple')\n",
    "graph6.set_title(\"Distance From Prior Transaction\", fontsize=25)\n",
    "graph6.set_xlabel('Distance in Miles', fontsize=15) \n",
    "graph6.set_ylabel('Card Transactions', fontsize=15)\n",
    "\n",
    "plt.show()"
   ]
  },
  {
   "cell_type": "markdown",
   "id": "a5aea760",
   "metadata": {},
   "source": [
    "# Create Test/Train Data"
   ]
  },
  {
   "cell_type": "markdown",
   "id": "b442a9d7",
   "metadata": {},
   "source": [
    "In this supervised machine learning modell, the numpy random seed provides an input to the pseudo-random number generator. X is assigned all sample data besides the fraud column. y is assigned to all data within the fraud column. The train data is used to 'fit' the model. The test data is used for an unbiased evaluation of the final model. X is assigned the first sequence where y is assigned the second sequence. The train_size defines the size of the training set and can be between 0.0 and 1.0."
   ]
  },
  {
   "cell_type": "code",
   "execution_count": null,
   "id": "76e05dab",
   "metadata": {},
   "outputs": [],
   "source": [
    "np.random.seed(99)\n",
    "\n",
    "X = sample_data.drop('fraud', axis=1)\n",
    "\n",
    "y = sample_data['fraud']\n",
    "\n",
    "X_train, X_test, y_train, y_test = train_test_split(X, y, train_size=0.5)"
   ]
  },
  {
   "cell_type": "markdown",
   "id": "6af01c70",
   "metadata": {},
   "source": [
    "# Train the Model"
   ]
  },
  {
   "cell_type": "markdown",
   "id": "b63698ed",
   "metadata": {},
   "source": [
    "In this section, the classifier is defined and 'fit' on the training data. A training score, confusion matrix, and classification report are generated."
   ]
  },
  {
   "cell_type": "code",
   "execution_count": null,
   "id": "73d19611",
   "metadata": {},
   "outputs": [],
   "source": [
    "model=SGDClassifier(loss=\"hinge\", max_iter=10000)\n",
    "\n",
    "model.fit(X_train, y_train)\n",
    "\n",
    "score = model.score(X_train, y_train)\n",
    "print(\"Training score: \", score) \n",
    "\n",
    "y_preds = model.predict(X_test)"
   ]
  },
  {
   "cell_type": "markdown",
   "id": "b04ca7b3",
   "metadata": {},
   "source": [
    "# Model Performance"
   ]
  },
  {
   "cell_type": "markdown",
   "id": "66cac099",
   "metadata": {},
   "source": [
    "In this section, the accuracy and mean error rate are displayed to show the efficency of the model. "
   ]
  },
  {
   "cell_type": "code",
   "execution_count": null,
   "id": "43a6238a",
   "metadata": {},
   "outputs": [],
   "source": [
    "cm = confusion_matrix(y_test, y_preds)\n",
    "print(cm)\n",
    "\n",
    "cr = classification_report(y_test, y_preds)\n",
    "print(cr)\n",
    "\n",
    "print(f\"Accuracy Score: {accuracy_score(y_test, y_preds)}, Mean Error: {mean_absolute_error(y_test, y_preds)}\")"
   ]
  },
  {
   "cell_type": "markdown",
   "id": "7d43e26a",
   "metadata": {},
   "source": [
    "# Creation of User Input Widgets"
   ]
  },
  {
   "cell_type": "markdown",
   "id": "27e9848f",
   "metadata": {},
   "source": [
    "In this section, interactive widgets are created. Three sliders and four drop down menus are produced from this code to allow the user to input data into the system. The drop down menus are assigned 0.0 or 1.0 depending on if the user selects yes or no."
   ]
  },
  {
   "cell_type": "code",
   "execution_count": null,
   "id": "df33abeb",
   "metadata": {},
   "outputs": [],
   "source": [
    "distance_from_home_slider = widgets.FloatSlider(\n",
    "    value=0.0,\n",
    "    min=0,\n",
    "    max=250.0,\n",
    "    steo=0.5,\n",
    "    disabled=False,\n",
    "    continuous_update=True,\n",
    "    orientation='horizontal',\n",
    "    readout=True,\n",
    "    readout_format='.1f',\n",
    ")\n",
    "\n",
    "distance_from_last_transact_slider = widgets.FloatSlider(\n",
    "    value=0.0,\n",
    "    min=0,\n",
    "    max=250.0,\n",
    "    steo=0.5,\n",
    "    disabled=False,\n",
    "    continuous_update=True,\n",
    "    orientation='horizontal',\n",
    "    readout=True,\n",
    "    readout_format='.1f',\n",
    ")\n",
    "\n",
    "ratio_to_median_purchase_price_slider = widgets.FloatSlider(\n",
    "    value=0.0,\n",
    "    min=0,\n",
    "    max=275.0,\n",
    "    steo=0.1,\n",
    "    disabled=False,\n",
    "    continuous_update=True,\n",
    "    orientation='horizontal',\n",
    "    readout=True,\n",
    "    readout_format='.1f',\n",
    ")\n",
    "\n",
    "repeat_retailer_selector = widgets.Dropdown(\n",
    "    options=[('', 0.5), ('Yes', 1.0), ('No', 0.0)],\n",
    "    value=0.5,\n",
    "    disabled=False,\n",
    ")\n",
    "\n",
    "utilized_chip_selector = widgets.Dropdown(\n",
    "  options=[('', 0.5), ('Yes', 1.0), ('No', 0.0)],\n",
    "    value=0.5,\n",
    "    disabled=False,\n",
    ")\n",
    "\n",
    "utilized_pin_selector = widgets.Dropdown(\n",
    "  options=[('', 0.5), ('Yes', 1.0), ('No', 0.0)],\n",
    "    value=0.5,\n",
    "    disabled=False,\n",
    ")\n",
    "\n",
    "ecommerce_selector = widgets.Dropdown(\n",
    "    options=[('', 0.5), ('Yes', 1.0), ('No', 0.0)],\n",
    "    value=0.5,\n",
    "    disabled=False,\n",
    ")"
   ]
  },
  {
   "cell_type": "markdown",
   "id": "83e8b9a5",
   "metadata": {},
   "source": [
    "# Assigning Widgets"
   ]
  },
  {
   "cell_type": "markdown",
   "id": "10538097",
   "metadata": {},
   "source": [
    "The aforementioned widgets are given a label and assigned to a horizontal box within a parent vertical box."
   ]
  },
  {
   "cell_type": "code",
   "execution_count": null,
   "id": "c2bd0f07",
   "metadata": {},
   "outputs": [],
   "source": [
    "box1 = HBox([\n",
    "    Label('Distance From Home (MI):'),\n",
    "    distance_from_home_slider\n",
    "])\n",
    "\n",
    "box2 = HBox([\n",
    "    Label('Distance From Last Transaction (MI):'),\n",
    "    distance_from_last_transact_slider\n",
    "])\n",
    "\n",
    "box3 = HBox([\n",
    "    Label('Ratio to Median Purchase Price:'),\n",
    "    ratio_to_median_purchase_price_slider\n",
    "])\n",
    "\n",
    "box4 = HBox([\n",
    "    Label('Was this a repeat retailer?'),\n",
    "    repeat_retailer_selector\n",
    "])\n",
    "\n",
    "box5 = HBox([\n",
    "    Label('Was the chip used?'),\n",
    "    utilized_chip_selector\n",
    "])\n",
    "\n",
    "box6 = HBox([\n",
    "    Label('Was the pin used?'),\n",
    "    utilized_pin_selector\n",
    "])\n",
    "\n",
    "box7 = HBox([\n",
    "    Label('Was this an e-commerce order?'),\n",
    "    ecommerce_selector\n",
    "])\n",
    "\n",
    "VBox([box1, box2, box3, box4, box5, box6, box7,])"
   ]
  },
  {
   "cell_type": "markdown",
   "id": "9be4f9b5",
   "metadata": {},
   "source": [
    "# User Input Data Processing"
   ]
  },
  {
   "cell_type": "markdown",
   "id": "91085cb3",
   "metadata": {},
   "source": [
    "In this section, all values are obtained from the widgets. The model provided by the user is then tested. A method is created that defines if the user submitted model is fraudulent or legitimate."
   ]
  },
  {
   "cell_type": "code",
   "execution_count": null,
   "id": "ff515578",
   "metadata": {},
   "outputs": [],
   "source": [
    "feature_names = X.columns\n",
    "\n",
    "distance_from_home = distance_from_home_slider.value\n",
    "distance_from_last_transact = distance_from_last_transact_slider.value\n",
    "ratio_to_median_purchase_price = ratio_to_median_purchase_price_slider.value\n",
    "repeat_retailer = repeat_retailer_selector.value\n",
    "utilized_chip = utilized_chip_selector.value\n",
    "utilized_pin = utilized_pin_selector.value\n",
    "ecommerce_order2 = ecommerce_selector.value\n",
    "\n",
    "#Test Model\n",
    "transact = pd.DataFrame(data=([[distance_from_home, distance_from_last_transact, ratio_to_median_purchase_price,\n",
    "                                repeat_retailer, utilized_chip, utilized_pin, ecommerce_order2]]),\n",
    "                        columns=feature_names)\n",
    "\n",
    "#print\n",
    "def run_model(dataframe):\n",
    "    distance_from_home = distance_from_home_slider.value\n",
    "    distance_from_last_transact = distance_from_last_transact_slider.value\n",
    "    ratio_to_median_purchase_price = ratio_to_median_purchase_price_slider.value\n",
    "    repeat_retailer = repeat_retailer_selector.value\n",
    "    utilized_chip = utilized_chip_selector.value\n",
    "    utilized_pin = utilized_pin_selector.value\n",
    "    ecommerce_order2 = ecommerce_selector.value\n",
    "\n",
    "    transact = pd.DataFrame(data=([[distance_from_home, distance_from_last_transact, ratio_to_median_purchase_price,\n",
    "                                    repeat_retailer, utilized_chip, utilized_pin, ecommerce_order2]]),\n",
    "                            columns=feature_names)\n",
    "    result = model.predict(transact)\n",
    "    if result[0] == 0.0:\n",
    "        print(\"The transaction is legitimate!\")\n",
    "        print(f'{distance_from_home, distance_from_last_transact, ratio_to_median_purchase_price, repeat_retailer, utilized_chip, utilized_pin, ecommerce_order2}')\n",
    "\n",
    "    else:\n",
    "        print(\"The transaction is fraudulent!\")\n",
    "        print(f'{distance_from_home, distance_from_last_transact, ratio_to_median_purchase_price, repeat_retailer, utilized_chip, utilized_pin, ecommerce_order2}')\n"
   ]
  },
  {
   "cell_type": "markdown",
   "id": "172e1607",
   "metadata": {},
   "source": [
    "# Run User Data Against Model"
   ]
  },
  {
   "cell_type": "markdown",
   "id": "62504e30",
   "metadata": {},
   "source": [
    "In this section, the previously provided user data is ran against the algorithm. Upon the user clicking 'Run model', the system will output the results."
   ]
  },
  {
   "cell_type": "code",
   "execution_count": null,
   "id": "8314cc5a",
   "metadata": {},
   "outputs": [],
   "source": [
    "button = widgets.Button(\n",
    "    description='Run Model',\n",
    "    disabled=False,\n",
    "    button_style='success',\n",
    "    tooltip='Run Model',\n",
    "    icon='check'\n",
    ")\n",
    "\n",
    "output = widgets.Output()\n",
    "\n",
    "display(button, output)\n",
    "\n",
    "def on_button_click(b):\n",
    "    with output:\n",
    "        run_model(transact)\n",
    "\n",
    "button.on_click(on_button_click)"
   ]
  },
  {
   "cell_type": "markdown",
   "id": "728c25ed",
   "metadata": {},
   "source": [
    "# Recap"
   ]
  },
  {
   "cell_type": "markdown",
   "id": "10cfa9e8",
   "metadata": {},
   "source": [
    "Throughout this report the following was accomplished:\n",
    "\n",
    "-Data was prepared by importing and creating a dataframe.\n",
    "\n",
    "-An Exploratory Data Analysis (Descriptive Method) was conducted using visualization library like matplotlib.\n",
    "\n",
    "-The correct estimator/algorithm for the problem and dataset was chosen.\n",
    "\n",
    "-Test and train splits, the feature variables, and the target variable were created.\n",
    "\n",
    "-The test was fitted on the selected model.\n",
    "\n",
    "-Model was evaluated.\n",
    "\n",
    "-Trained model was saved and loaded.\n",
    "\n",
    "-User input was captured and saved as a model.\n",
    "\n",
    "-Model was used to predict whether a credit card transaction is fraudulent."
   ]
  }
 ],
 "metadata": {
  "kernelspec": {
   "display_name": "Python 3 (ipykernel)",
   "language": "python",
   "name": "python3"
  },
  "language_info": {
   "codemirror_mode": {
    "name": "ipython",
    "version": 3
   },
   "file_extension": ".py",
   "mimetype": "text/x-python",
   "name": "python",
   "nbconvert_exporter": "python",
   "pygments_lexer": "ipython3",
   "version": "3.9.13"
  }
 },
 "nbformat": 4,
 "nbformat_minor": 5
}
