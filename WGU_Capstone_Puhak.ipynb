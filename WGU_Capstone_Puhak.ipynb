{
 "cells": [
  {
   "cell_type": "markdown",
   "id": "e5dc15cb",
   "metadata": {},
   "source": [
    "# WGU Capstone Project: Credit Card Fraud Detection"
   ]
  },
  {
   "cell_type": "markdown",
   "id": "6c74dbd0",
   "metadata": {},
   "source": [
    "In this project, the business problem we are solving is determining if a credit card transaction is fraudulent or legitimate. This problem is solved by applying machine learning that finds patterns within a sample data set to determine if future credit card transactions are legitimate."
   ]
  },
  {
   "cell_type": "markdown",
   "id": "a47b6b12",
   "metadata": {},
   "source": [
    "# Import Libraries"
   ]
  },
  {
   "cell_type": "markdown",
   "id": "dc06284d",
   "metadata": {},
   "source": [
    "In this section, fetching of necessary libraries are imported into the notebook."
   ]
  },
  {
   "cell_type": "markdown",
   "id": "024df097",
   "metadata": {},
   "source": [
    "Pandas will be used to read, parse, and store the data of the CSV file into a dataframe. Numpy will be used for data manipulation. Matplotlib will be used to generate graphs and charts from the data. Ipywidgets will be used to create widgets such as dropdown menus, sliders, and text boxes. Seaborn will be used to add style to the graphs; In this case darkgrid will be used. Sklearn will be used to provide the machine learning library necessary to accomplish this task."
   ]
  },
  {
   "cell_type": "code",
   "execution_count": null,
   "id": "9efdcc12",
   "metadata": {},
   "outputs": [],
   "source": [
    "import pandas as pd\n",
    "import numpy as np\n",
    "import matplotlib.pyplot as plt\n",
    "import ipywidgets as widgets\n",
    "import seaborn as sns\n",
    "from ipywidgets import HBox, VBox, Label\n",
    "from sklearn.model_selection import train_test_split\n",
    "from sklearn.linear_model import SGDClassifier\n",
    "from sklearn.metrics import confusion_matrix\n",
    "from sklearn.metrics import classification_report\n",
    "from sklearn.metrics import mean_absolute_error, accuracy_score\n",
    "plt.style.use('seaborn-darkgrid')"
   ]
  },
  {
   "cell_type": "markdown",
   "id": "6ae541f9",
   "metadata": {},
   "source": [
    "# Import CSV File"
   ]
  },
  {
   "cell_type": "markdown",
   "id": "2f36ba50",
   "metadata": {},
   "source": [
    "This fetches the CSV file named 'card_transaction_data.csv' and assigns it to a variable named sample_data."
   ]
  },
  {
   "cell_type": "code",
   "execution_count": null,
   "id": "f5fe9dc6",
   "metadata": {},
   "outputs": [],
   "source": [
    "sample_data = pd.read_csv('card_transaction_data.csv')\n"
   ]
  },
  {
   "cell_type": "markdown",
   "id": "a892cde2",
   "metadata": {},
   "source": [
    "# Tableview of Sample Data"
   ]
  },
  {
   "cell_type": "markdown",
   "id": "f8837491",
   "metadata": {},
   "source": [
    "This will load all of the data contained within the CSV file and display it."
   ]
  },
  {
   "cell_type": "code",
   "execution_count": null,
   "id": "21ca55c1",
   "metadata": {},
   "outputs": [],
   "source": [
    "sample_data"
   ]
  },
  {
   "cell_type": "markdown",
   "id": "13786cde",
   "metadata": {},
   "source": [
    "# Condensed Tableview of Sample Data"
   ]
  },
  {
   "cell_type": "markdown",
   "id": "24c275e3",
   "metadata": {},
   "source": [
    "This allows the user to view the first five rows contained within the CSV file."
   ]
  },
  {
   "cell_type": "code",
   "execution_count": null,
   "id": "91e4a4f7",
   "metadata": {},
   "outputs": [],
   "source": [
    "sample_data.head()"
   ]
  },
  {
   "cell_type": "markdown",
   "id": "0e39e3f3",
   "metadata": {},
   "source": [
    "# Descriptive Methods"
   ]
  },
  {
   "cell_type": "markdown",
   "id": "7e3b5e9c",
   "metadata": {},
   "source": [
    "In this portion, the first three columns of the CSV file are selected. The describe() method is then applied to all to display an array of statistical data. "
   ]
  },
  {
   "cell_type": "code",
   "execution_count": null,
   "id": "cb2321ae",
   "metadata": {},
   "outputs": [],
   "source": [
    "sample_data_statistics = pd.DataFrame(sample_data[['distance_from_home', 'distance_from_last_transaction',\n",
    "                                  'ratio_to_median_purchase_price']].describe())\n",
    "sample_data_statistics.style.set_caption(\"Descriptive Statistics of Sample Data\")"
   ]
  },
  {
   "cell_type": "markdown",
   "id": "3376927f",
   "metadata": {},
   "source": [
    "# Set Variables"
   ]
  },
  {
   "cell_type": "markdown",
   "id": "1a1bec3d",
   "metadata": {},
   "source": [
    "Data from the CSV file are calculated and stored within a variable."
   ]
  },
  {
   "cell_type": "code",
   "execution_count": null,
   "id": "70afad45",
   "metadata": {},
   "outputs": [],
   "source": [
    "labels_ecommerce = 'Ecommerce Order', 'Not Ecommerce'\n",
    "explode_ecommerce = (0, 0.1)\n",
    "labels = 'Used Pin', 'Did Not Use Pin'\n",
    "explode = (0, 0.1)\n",
    "sizes_chip = [total_utilized_chip, total_no_chip, ]\n",
    "sizes_pin = [count_used_pin, count_no_pin]\n",
    "\n",
    "count_used_pin = sample_data[sample_data['used_pin_number'] == 1.0].count()['used_pin_number']\n",
    "count_no_pin = sample_data[sample_data['used_pin_number'] == 0.0].count()['used_pin_number']\n",
    "\n",
    "used_pin = {\n",
    "    \"Used Pin\": count_used_pin,\n",
    "    \"Did Not Use Pin\": count_no_pin\n",
    "}\n",
    "\n",
    "total_ecommerce = sample_data[sample_data['online_order'] == 1.0].count()['online_order']\n",
    "total_not_ecommerce = sample_data[sample_data['online_order'] == 0.0].count()['online_order']\n",
    "\n",
    "online_order = {\n",
    "    \"E-Commerce Order\": total_ecommerce,\n",
    "    \"Not E-Commerce\": total_not_ecommerce\n",
    "}\n",
    "\n",
    "total_no_chip = sample_data[sample_data['used_chip'] == 0.0].count()['used_chip']\n",
    "total_utilized_chip = sample_data[sample_data['used_chip'] == 1.0].count()['used_chip']\n",
    "\n",
    "used_chip = {\n",
    "    \"Utilized Chip\": total_utilized_chip,\n",
    "    \"Did Not Utilize Chip\": total_no_chip\n",
    "}\n",
    "\n",
    "total_non_repeat_retailer = sample_data[sample_data['repeat_retailer'] == 0.0].count()['repeat_retailer']\n",
    "total_repeat_retailer = sample_data[sample_data['repeat_retailer'] == 1.0].count()['repeat_retailer']\n",
    "\n",
    "repeat_retailer = {\n",
    "    \"Repeat\": total_repeat_retailer,\n",
    "    \"Non-Repeat\": total_non_repeat_retailer\n",
    "}"
   ]
  },
  {
   "cell_type": "markdown",
   "id": "9fc6c2d9",
   "metadata": {},
   "source": [
    "# Data Visuals"
   ]
  },
  {
   "cell_type": "markdown",
   "id": "7f13b0f7",
   "metadata": {},
   "source": [
    "The data from variable assignment are passed into graphs. The graphs are created with the data in mind. The first set are pie charts that display pin and chip usage. The pie chart offers an exploded view and a legend indicating color code. The second set are bar charts that display repeat retailers and e-commerce orders. The bar charts offer color coding to help differentiation of values. The final set are histogram charts that display transaction distance from home and transaction distance from previous transaction. "
   ]
  },
  {
   "cell_type": "code",
   "execution_count": null,
   "id": "617f8458",
   "metadata": {},
   "outputs": [],
   "source": [
    "fig, (graph1, graph2, graph3, graph4, graph5, graph6) = plt.subplots(nrows=6, ncols=1, figsize=(22,50))\n",
    "\n",
    "colors = (\"red\", \"teal\") \n",
    "colors2 = (\"green\", \"grey\") \n",
    "\n",
    "graph1.pie(sizes_pin, explode=explode, colors=colors, labels=labels, shadow=True, startangle=210, autopct='%1.1f%%')\n",
    "graph1.axis('equal')\n",
    "graph1.set_title(\"Pin Usage\", fontsize=25)\n",
    "graph1.legend(\n",
    "          title =\"Legend\",\n",
    "          loc=\"upper left\",\n",
    "          bbox_to_anchor =(0.7, 0, 0.5, 1))\n",
    "\n",
    "graph2.pie(sizes_chip, explode=explode_ecommerce, colors=colors2, labels=labels_ecommerce, shadow=True, startangle=180, autopct='%1.1f%%')\n",
    "graph2.axis('equal')\n",
    "graph2.set_title(\"Chip Usage\", fontsize=25)\n",
    "graph2.legend(\n",
    "          title =\"Legend\", \n",
    "          loc=\"upper left\",\n",
    "          bbox_to_anchor =(0.7, 0, 0.5, 1))\n",
    "\n",
    "graph3.bar(repeat_retailer.keys(), repeat_retailer.values(), color=colors2)\n",
    "graph3.set_title(\"Repeat Retailer\", fontsize=25)\n",
    "\n",
    "graph4.bar(online_order.keys(), online_order.values(), color=colors)\n",
    "graph4.set_title(\"E-Commerce Orders\", fontsize=25)\n",
    "\n",
    "graph5.hist(sample_data['distance_from_home'], bins=25, range=(0,100), color='olive')\n",
    "graph5.set_title(\"Distance Away From Home\", fontsize=25)\n",
    "graph5.set_xlabel('Distance in Miles', fontsize=15) \n",
    "graph5.set_ylabel('Card Transactions', fontsize=15)\n",
    "\n",
    "graph6.hist(sample_data['distance_from_last_transaction'], bins=25, range=(0,50), color='purple')\n",
    "graph6.set_title(\"Distance From Prior Transaction\", fontsize=25)\n",
    "graph6.set_xlabel('Distance in Miles', fontsize=15) \n",
    "graph6.set_ylabel('Card Transactions', fontsize=15)\n",
    "\n",
    "plt.show()"
   ]
  },
  {
   "cell_type": "markdown",
   "id": "b917e1f7",
   "metadata": {},
   "source": [
    "# Create Test/Train Data"
   ]
  },
  {
   "cell_type": "markdown",
   "id": "ed0a9be8",
   "metadata": {},
   "source": [
    "In this supervised machine learning modell, the numpy random seed provides an input to the pseudo-random number generator. X is assigned all sample data besides the fraud column. y is assigned to all data within the fraud column. The train data is used to 'fit' the model. The test data is used for an unbiased evaluation of the final model. X is assigned the first sequence where y is assigned the second sequence. The train_size defines the size of the training set and can be between 0.0 and 1.0."
   ]
  },
  {
   "cell_type": "code",
   "execution_count": null,
   "id": "b2af3133",
   "metadata": {},
   "outputs": [],
   "source": [
    "np.random.seed(99)\n",
    "\n",
    "X = sample_data.drop('fraud', axis=1)\n",
    "\n",
    "y = sample_data['fraud']\n",
    "\n",
    "X_train, X_test, y_train, y_test = train_test_split(X, y, train_size=0.5)"
   ]
  },
  {
   "cell_type": "markdown",
   "id": "2b19ff95",
   "metadata": {},
   "source": [
    "# Train the Model"
   ]
  },
  {
   "cell_type": "markdown",
   "id": "74a9ad4e",
   "metadata": {},
   "source": [
    "In this section, the classifier is defined and 'fit' on the training data. A training score, confusion matrix, and classification report are generated."
   ]
  },
  {
   "cell_type": "code",
   "execution_count": null,
   "id": "423a5b79",
   "metadata": {},
   "outputs": [],
   "source": [
    "model=SGDClassifier(loss=\"hinge\", max_iter=10000)\n",
    "\n",
    "model.fit(X_train, y_train)\n",
    "\n",
    "score = model.score(X_train, y_train)\n",
    "print(\"Training score: \", score) \n",
    "\n",
    "y_preds = model.predict(X_test)"
   ]
  },
  {
   "cell_type": "markdown",
   "id": "f613f0b2",
   "metadata": {},
   "source": [
    "# Model Performance"
   ]
  },
  {
   "cell_type": "markdown",
   "id": "3e8d8d13",
   "metadata": {},
   "source": [
    "In this section, the accuracy and mean error rate are displayed to show the efficency of the model. "
   ]
  },
  {
   "cell_type": "code",
   "execution_count": null,
   "id": "aa8f9ff7",
   "metadata": {},
   "outputs": [],
   "source": [
    "cm = confusion_matrix(y_test, y_preds)\n",
    "print(cm)\n",
    "\n",
    "cr = classification_report(y_test, y_preds)\n",
    "print(cr)\n",
    "\n",
    "print(f\"Accuracy Score: {accuracy_score(y_test, y_preds)}, Mean Error: {mean_absolute_error(y_test, y_preds)}\")"
   ]
  },
  {
   "cell_type": "markdown",
   "id": "ad8ab7f4",
   "metadata": {},
   "source": [
    "# Creation of User Input Widgets"
   ]
  },
  {
   "cell_type": "markdown",
   "id": "c364e0e8",
   "metadata": {},
   "source": [
    "In this section, interactive widgets are created. Three sliders and four drop down menus are produced from this code to allow the user to input data into the system. The drop down menus are assigned 0.0 or 1.0 depending on if the user selects yes or no."
   ]
  },
  {
   "cell_type": "code",
   "execution_count": null,
   "id": "b7dc0abc",
   "metadata": {},
   "outputs": [],
   "source": [
    "distance_from_home_slider = widgets.FloatSlider(\n",
    "    value=0.0,\n",
    "    min=0,\n",
    "    max=250.0,\n",
    "    steo=0.5,\n",
    "    disabled=False,\n",
    "    continuous_update=True,\n",
    "    orientation='horizontal',\n",
    "    readout=True,\n",
    "    readout_format='.1f',\n",
    ")\n",
    "\n",
    "distance_from_last_transact_slider = widgets.FloatSlider(\n",
    "    value=0.0,\n",
    "    min=0,\n",
    "    max=250.0,\n",
    "    steo=0.5,\n",
    "    disabled=False,\n",
    "    continuous_update=True,\n",
    "    orientation='horizontal',\n",
    "    readout=True,\n",
    "    readout_format='.1f',\n",
    ")\n",
    "\n",
    "ratio_to_median_purchase_price_slider = widgets.FloatSlider(\n",
    "    value=0.0,\n",
    "    min=0,\n",
    "    max=275.0,\n",
    "    steo=0.1,\n",
    "    disabled=False,\n",
    "    continuous_update=True,\n",
    "    orientation='horizontal',\n",
    "    readout=True,\n",
    "    readout_format='.1f',\n",
    ")\n",
    "\n",
    "repeat_retailer_selector = widgets.Dropdown(\n",
    "    options=[('', 0.5), ('Yes', 1.0), ('No', 0.0)],\n",
    "    value=0.5,\n",
    "    disabled=False,\n",
    ")\n",
    "\n",
    "utilized_chip_selector = widgets.Dropdown(\n",
    "  options=[('', 0.5), ('Yes', 1.0), ('No', 0.0)],\n",
    "    value=0.5,\n",
    "    disabled=False,\n",
    ")\n",
    "\n",
    "utilized_pin_selector = widgets.Dropdown(\n",
    "  options=[('', 0.5), ('Yes', 1.0), ('No', 0.0)],\n",
    "    value=0.5,\n",
    "    disabled=False,\n",
    ")\n",
    "\n",
    "ecommerce_selector = widgets.Dropdown(\n",
    "    options=[('', 0.5), ('Yes', 1.0), ('No', 0.0)],\n",
    "    value=0.5,\n",
    "    disabled=False,\n",
    ")"
   ]
  },
  {
   "cell_type": "markdown",
   "id": "d480af73",
   "metadata": {},
   "source": [
    "# Assigning Widgets"
   ]
  },
  {
   "cell_type": "markdown",
   "id": "7d193a35",
   "metadata": {},
   "source": [
    "The aforementioned widgets are given a label and assigned to a horizontal box within a parent vertical box."
   ]
  },
  {
   "cell_type": "code",
   "execution_count": null,
   "id": "8445e599",
   "metadata": {},
   "outputs": [],
   "source": [
    "box1 = HBox([\n",
    "    Label('Distance From Home (MI):'),\n",
    "    distance_from_home_slider\n",
    "])\n",
    "\n",
    "box2 = HBox([\n",
    "    Label('Distance From Last Transaction (MI):'),\n",
    "    distance_from_last_transact_slider\n",
    "])\n",
    "\n",
    "box3 = HBox([\n",
    "    Label('Ratio to Median Purchase Price:'),\n",
    "    ratio_to_median_purchase_price_slider\n",
    "])\n",
    "\n",
    "box4 = HBox([\n",
    "    Label('Was this a repeat retailer?'),\n",
    "    repeat_retailer_selector\n",
    "])\n",
    "\n",
    "box5 = HBox([\n",
    "    Label('Was the chip used?'),\n",
    "    utilized_chip_selector\n",
    "])\n",
    "\n",
    "box6 = HBox([\n",
    "    Label('Was the pin used?'),\n",
    "    utilized_pin_selector\n",
    "])\n",
    "\n",
    "box7 = HBox([\n",
    "    Label('Was this an e-commerce order?'),\n",
    "    ecommerce_selector\n",
    "])\n",
    "\n",
    "VBox([box1, box2, box3, box4, box5, box6, box7,])"
   ]
  },
  {
   "cell_type": "markdown",
   "id": "dc1cdf95",
   "metadata": {},
   "source": [
    "# User Input Data Processing"
   ]
  },
  {
   "cell_type": "markdown",
   "id": "a6502be6",
   "metadata": {},
   "source": [
    "In this section, all values are obtained from the widgets. The model provided by the user is then tested. A method is created that defines if the user submitted model is fraudulent or legitimate."
   ]
  },
  {
   "cell_type": "code",
   "execution_count": null,
   "id": "6c6c1d11",
   "metadata": {},
   "outputs": [],
   "source": [
    "feature_names = X.columns\n",
    "\n",
    "distance_from_home = distance_from_home_slider.value\n",
    "distance_from_last_transact = distance_from_last_transact_slider.value\n",
    "ratio_to_median_purchase_price = ratio_to_median_purchase_price_slider.value\n",
    "repeat_retailer = repeat_retailer_selector.value\n",
    "utilized_chip = utilized_chip_selector.value\n",
    "utilized_pin = utilized_pin_selector.value\n",
    "ecommerce_order2 = ecommerce_selector.value\n",
    "\n",
    "#Test Model\n",
    "transact = pd.DataFrame(data=([[distance_from_home, distance_from_last_transact, ratio_to_median_purchase_price,\n",
    "                                repeat_retailer, utilized_chip, utilized_pin, ecommerce_order2]]),\n",
    "                        columns=feature_names)\n",
    "\n",
    "#print\n",
    "def run_model(dataframe):\n",
    "    distance_from_home = distance_from_home_slider.value\n",
    "    distance_from_last_transact = distance_from_last_transact_slider.value\n",
    "    ratio_to_median_purchase_price = ratio_to_median_purchase_price_slider.value\n",
    "    repeat_retailer = repeat_retailer_selector.value\n",
    "    utilized_chip = utilized_chip_selector.value\n",
    "    utilized_pin = utilized_pin_selector.value\n",
    "    ecommerce_order2 = ecommerce_selector.value\n",
    "\n",
    "    transact = pd.DataFrame(data=([[distance_from_home, distance_from_last_transact, ratio_to_median_purchase_price,\n",
    "                                    repeat_retailer, utilized_chip, utilized_pin, ecommerce_order2]]),\n",
    "                            columns=feature_names)\n",
    "    result = model.predict(transact)\n",
    "    if result[0] == 0.0:\n",
    "        print(\"The transaction is legitimate!\")\n",
    "        print(f'{distance_from_home, distance_from_last_transact, ratio_to_median_purchase_price, repeat_retailer, utilized_chip, utilized_pin, ecommerce_order2}')\n",
    "\n",
    "    else:\n",
    "        print(\"The transaction is fraudulent!\")\n",
    "        print(f'{distance_from_home, distance_from_last_transact, ratio_to_median_purchase_price, repeat_retailer, utilized_chip, utilized_pin, ecommerce_order2}')\n"
   ]
  },
  {
   "cell_type": "markdown",
   "id": "4c61abd3",
   "metadata": {},
   "source": [
    "# Run User Data Against Model"
   ]
  },
  {
   "cell_type": "markdown",
   "id": "aeee69a4",
   "metadata": {},
   "source": [
    "In this section, the previously provided user data is ran against the algorithm. Upon the user clicking 'Run model', the system will output the results."
   ]
  },
  {
   "cell_type": "code",
   "execution_count": null,
   "id": "94133773",
   "metadata": {},
   "outputs": [],
   "source": [
    "button = widgets.Button(\n",
    "    description='Run Model',\n",
    "    disabled=False,\n",
    "    button_style='success',\n",
    "    tooltip='Run Model',\n",
    "    icon='check'\n",
    ")\n",
    "\n",
    "output = widgets.Output()\n",
    "\n",
    "display(button, output)\n",
    "\n",
    "def on_button_click(b):\n",
    "    with output:\n",
    "        run_model(transact)\n",
    "\n",
    "button.on_click(on_button_click)"
   ]
  },
  {
   "cell_type": "markdown",
   "id": "8039fe04",
   "metadata": {},
   "source": [
    "# Recap"
   ]
  },
  {
   "cell_type": "markdown",
   "id": "d5db0df5",
   "metadata": {},
   "source": [
    "Throughout this report the following was accomplished:\n",
    "\n",
    "-Data was prepared by importing and creating a dataframe.\n",
    "\n",
    "-An Exploratory Data Analysis (Descriptive Method) was conducted using visualization library like matplotlib.\n",
    "\n",
    "-The correct estimator/algorithm for the problem and dataset was chosen.\n",
    "\n",
    "-Test and train splits, the feature variables, and the target variable were created.\n",
    "\n",
    "-The test was fitted on the selected model.\n",
    "\n",
    "-Model was evaluated.\n",
    "\n",
    "-Trained model was saved and loaded.\n",
    "\n",
    "-User input was captured and saved as a model.\n",
    "\n",
    "-Model was used to predict whether a credit card transaction is fraudulent."
   ]
  }
 ],
 "metadata": {
  "kernelspec": {
   "display_name": "Python 3 (ipykernel)",
   "language": "python",
   "name": "python3"
  },
  "language_info": {
   "codemirror_mode": {
    "name": "ipython",
    "version": 3
   },
   "file_extension": ".py",
   "mimetype": "text/x-python",
   "name": "python",
   "nbconvert_exporter": "python",
   "pygments_lexer": "ipython3",
   "version": "3.9.13"
  }
 },
 "nbformat": 4,
 "nbformat_minor": 5
}
